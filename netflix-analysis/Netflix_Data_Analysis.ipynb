{
 "cells": [
  {
   "cell_type": "markdown",
   "id": "e60a2c1a-5f31-4347-8679-f15a1a81ea5e",
   "metadata": {},
   "source": [
    "# Netflix Data Analysis"
   ]
  },
  {
   "cell_type": "code",
   "execution_count": 1,
   "id": "e2c9fb62-8066-41c7-822b-639de92f0a5e",
   "metadata": {},
   "outputs": [],
   "source": [
    "# import libraries \n",
    "import pandas as pd\n",
    "import matplotlib.pyplot as plt\n",
    "import seaborn as sns\n"
   ]
  },
  {
   "cell_type": "code",
   "execution_count": 2,
   "id": "1a02acc6-76a6-4596-9ea2-c50553bed21e",
   "metadata": {
    "scrolled": true
   },
   "outputs": [
    {
     "data": {
      "text/html": [
       "<div>\n",
       "<style scoped>\n",
       "    .dataframe tbody tr th:only-of-type {\n",
       "        vertical-align: middle;\n",
       "    }\n",
       "\n",
       "    .dataframe tbody tr th {\n",
       "        vertical-align: top;\n",
       "    }\n",
       "\n",
       "    .dataframe thead th {\n",
       "        text-align: right;\n",
       "    }\n",
       "</style>\n",
       "<table border=\"1\" class=\"dataframe\">\n",
       "  <thead>\n",
       "    <tr style=\"text-align: right;\">\n",
       "      <th></th>\n",
       "      <th>Show_Id</th>\n",
       "      <th>Category</th>\n",
       "      <th>Title</th>\n",
       "      <th>Director</th>\n",
       "      <th>Cast</th>\n",
       "      <th>Country</th>\n",
       "      <th>Release_Date</th>\n",
       "      <th>Rating</th>\n",
       "      <th>Duration</th>\n",
       "      <th>Type</th>\n",
       "      <th>Description</th>\n",
       "    </tr>\n",
       "  </thead>\n",
       "  <tbody>\n",
       "    <tr>\n",
       "      <th>0</th>\n",
       "      <td>s1</td>\n",
       "      <td>TV Show</td>\n",
       "      <td>3%</td>\n",
       "      <td>NaN</td>\n",
       "      <td>João Miguel, Bianca Comparato, Michel Gomes, R...</td>\n",
       "      <td>Brazil</td>\n",
       "      <td>August 14, 2020</td>\n",
       "      <td>TV-MA</td>\n",
       "      <td>4 Seasons</td>\n",
       "      <td>International TV Shows, TV Dramas, TV Sci-Fi &amp;...</td>\n",
       "      <td>In a future where the elite inhabit an island ...</td>\n",
       "    </tr>\n",
       "    <tr>\n",
       "      <th>1</th>\n",
       "      <td>s2</td>\n",
       "      <td>Movie</td>\n",
       "      <td>07:19</td>\n",
       "      <td>Jorge Michel Grau</td>\n",
       "      <td>Demián Bichir, Héctor Bonilla, Oscar Serrano, ...</td>\n",
       "      <td>Mexico</td>\n",
       "      <td>December 23, 2016</td>\n",
       "      <td>TV-MA</td>\n",
       "      <td>93 min</td>\n",
       "      <td>Dramas, International Movies</td>\n",
       "      <td>After a devastating earthquake hits Mexico Cit...</td>\n",
       "    </tr>\n",
       "    <tr>\n",
       "      <th>2</th>\n",
       "      <td>s3</td>\n",
       "      <td>Movie</td>\n",
       "      <td>23:59</td>\n",
       "      <td>Gilbert Chan</td>\n",
       "      <td>Tedd Chan, Stella Chung, Henley Hii, Lawrence ...</td>\n",
       "      <td>Singapore</td>\n",
       "      <td>December 20, 2018</td>\n",
       "      <td>R</td>\n",
       "      <td>78 min</td>\n",
       "      <td>Horror Movies, International Movies</td>\n",
       "      <td>When an army recruit is found dead, his fellow...</td>\n",
       "    </tr>\n",
       "    <tr>\n",
       "      <th>3</th>\n",
       "      <td>s4</td>\n",
       "      <td>Movie</td>\n",
       "      <td>9</td>\n",
       "      <td>Shane Acker</td>\n",
       "      <td>Elijah Wood, John C. Reilly, Jennifer Connelly...</td>\n",
       "      <td>United States</td>\n",
       "      <td>November 16, 2017</td>\n",
       "      <td>PG-13</td>\n",
       "      <td>80 min</td>\n",
       "      <td>Action &amp; Adventure, Independent Movies, Sci-Fi...</td>\n",
       "      <td>In a postapocalyptic world, rag-doll robots hi...</td>\n",
       "    </tr>\n",
       "    <tr>\n",
       "      <th>4</th>\n",
       "      <td>s5</td>\n",
       "      <td>Movie</td>\n",
       "      <td>21</td>\n",
       "      <td>Robert Luketic</td>\n",
       "      <td>Jim Sturgess, Kevin Spacey, Kate Bosworth, Aar...</td>\n",
       "      <td>United States</td>\n",
       "      <td>January 1, 2020</td>\n",
       "      <td>PG-13</td>\n",
       "      <td>123 min</td>\n",
       "      <td>Dramas</td>\n",
       "      <td>A brilliant group of students become card-coun...</td>\n",
       "    </tr>\n",
       "  </tbody>\n",
       "</table>\n",
       "</div>"
      ],
      "text/plain": [
       "  Show_Id Category  Title           Director  \\\n",
       "0      s1  TV Show     3%                NaN   \n",
       "1      s2    Movie  07:19  Jorge Michel Grau   \n",
       "2      s3    Movie  23:59       Gilbert Chan   \n",
       "3      s4    Movie      9        Shane Acker   \n",
       "4      s5    Movie     21     Robert Luketic   \n",
       "\n",
       "                                                Cast        Country  \\\n",
       "0  João Miguel, Bianca Comparato, Michel Gomes, R...         Brazil   \n",
       "1  Demián Bichir, Héctor Bonilla, Oscar Serrano, ...         Mexico   \n",
       "2  Tedd Chan, Stella Chung, Henley Hii, Lawrence ...      Singapore   \n",
       "3  Elijah Wood, John C. Reilly, Jennifer Connelly...  United States   \n",
       "4  Jim Sturgess, Kevin Spacey, Kate Bosworth, Aar...  United States   \n",
       "\n",
       "        Release_Date Rating   Duration  \\\n",
       "0    August 14, 2020  TV-MA  4 Seasons   \n",
       "1  December 23, 2016  TV-MA     93 min   \n",
       "2  December 20, 2018      R     78 min   \n",
       "3  November 16, 2017  PG-13     80 min   \n",
       "4    January 1, 2020  PG-13    123 min   \n",
       "\n",
       "                                                Type  \\\n",
       "0  International TV Shows, TV Dramas, TV Sci-Fi &...   \n",
       "1                       Dramas, International Movies   \n",
       "2                Horror Movies, International Movies   \n",
       "3  Action & Adventure, Independent Movies, Sci-Fi...   \n",
       "4                                             Dramas   \n",
       "\n",
       "                                         Description  \n",
       "0  In a future where the elite inhabit an island ...  \n",
       "1  After a devastating earthquake hits Mexico Cit...  \n",
       "2  When an army recruit is found dead, his fellow...  \n",
       "3  In a postapocalyptic world, rag-doll robots hi...  \n",
       "4  A brilliant group of students become card-coun...  "
      ]
     },
     "execution_count": 2,
     "metadata": {},
     "output_type": "execute_result"
    }
   ],
   "source": [
    "# read data \n",
    "netflix = pd.read_csv('Netflix Dataset.csv')\n",
    "netflix.head() \n"
   ]
  },
  {
   "cell_type": "markdown",
   "id": "12b6a789-4135-4d07-b67c-b77420ba743c",
   "metadata": {},
   "source": [
    " ---"
   ]
  },
  {
   "cell_type": "markdown",
   "id": "851dbe64-f517-4098-b7ee-352367288b3a",
   "metadata": {},
   "source": [
    "  "
   ]
  },
  {
   "cell_type": "code",
   "execution_count": 3,
   "id": "c5cac75d-1ad2-4626-825c-7ff4dbf11040",
   "metadata": {},
   "outputs": [],
   "source": [
    "############ question to answer ################################\n",
    "\n",
    "# Q. 1) For 'House of Cards', what is the Show Id and Who is the Director of this show ?\n",
    "\n",
    "# Q. 2) In which year the highest number of the TV Shows & Movies were released ? Show with Bar Graph.\n",
    "\n",
    "# Q. 3) How many Movies & TV Shows are in the dataset ? Show with Bar Graph.\n",
    "\n",
    "# Q. 4) Show all the Movies that were released in year 2020.\n",
    "\n",
    "# Q. 5) Show only the Titles of all TV Shows that were released in India only.\n",
    "\n",
    "# Q. 6) Show Top 10 Directors, who gave the highest number of TV Shows & Movies to Netflix ?\n",
    "\n",
    "# Q. 7) Show all the Records, where \"Category is Movie and Type is Comedies\" or \"Country is United Kingdom\".\n",
    "\n",
    "# Q. 8) In how many movies/shows, Tom Cruise was cast ?\n",
    "\n",
    "# Q. 9) What are the different Ratings defined by Netflix ?\n",
    "# Q. 9.1) How many Movies got the 'TV-14' rating, in Canada ?\n",
    "# Q. 9.2) How many TV Shows got the 'R' rating, after year 2018 ?\n",
    "\n",
    "# Q. 10) What is the maximum duration of a Movie/Show on Netflix ?\n",
    "\n",
    "# Q. 11) Which individual country has the Highest No. of TV Shows ?\n",
    "\n",
    "# Q. 12) How can we sort the dataset by Year ?\n",
    "\n",
    "# Q. 13) Find all the instances where: Category is 'Movie' and Type is 'Dramas' or Category is 'TV Show' & Type is 'Kids' TV'."
   ]
  },
  {
   "cell_type": "markdown",
   "id": "dcb84cb6-345b-41b3-981b-b552c862c1f4",
   "metadata": {},
   "source": [
    " ---"
   ]
  },
  {
   "cell_type": "markdown",
   "id": "4143b0c4-2035-48cc-9c46-3b31a0343a05",
   "metadata": {},
   "source": [
    "#### Q. 1) For 'House of Cards', what is the Show Id and Who is the Director of this show"
   ]
  },
  {
   "cell_type": "code",
   "execution_count": 4,
   "id": "a9522efc-26e3-484b-bc93-0214c43768f5",
   "metadata": {},
   "outputs": [
    {
     "name": "stdout",
     "output_type": "stream",
     "text": [
      "s2833 , Robin Wright, David Fincher, Gerald McRaney, John David Coles, David Manson\n"
     ]
    },
    {
     "data": {
      "text/html": [
       "<div>\n",
       "<style scoped>\n",
       "    .dataframe tbody tr th:only-of-type {\n",
       "        vertical-align: middle;\n",
       "    }\n",
       "\n",
       "    .dataframe tbody tr th {\n",
       "        vertical-align: top;\n",
       "    }\n",
       "\n",
       "    .dataframe thead th {\n",
       "        text-align: right;\n",
       "    }\n",
       "</style>\n",
       "<table border=\"1\" class=\"dataframe\">\n",
       "  <thead>\n",
       "    <tr style=\"text-align: right;\">\n",
       "      <th></th>\n",
       "      <th>Show_Id</th>\n",
       "      <th>Category</th>\n",
       "      <th>Title</th>\n",
       "      <th>Director</th>\n",
       "      <th>Cast</th>\n",
       "      <th>Country</th>\n",
       "      <th>Release_Date</th>\n",
       "      <th>Rating</th>\n",
       "      <th>Duration</th>\n",
       "      <th>Type</th>\n",
       "      <th>Description</th>\n",
       "    </tr>\n",
       "  </thead>\n",
       "  <tbody>\n",
       "    <tr>\n",
       "      <th>2832</th>\n",
       "      <td>s2833</td>\n",
       "      <td>TV Show</td>\n",
       "      <td>House of Cards</td>\n",
       "      <td>Robin Wright, David Fincher, Gerald McRaney, J...</td>\n",
       "      <td>Kevin Spacey, Robin Wright, Kate Mara, Corey S...</td>\n",
       "      <td>United States</td>\n",
       "      <td>November 2, 2018</td>\n",
       "      <td>TV-MA</td>\n",
       "      <td>6 Seasons</td>\n",
       "      <td>TV Dramas, TV Thrillers</td>\n",
       "      <td>A ruthless politician will stop at nothing to ...</td>\n",
       "    </tr>\n",
       "  </tbody>\n",
       "</table>\n",
       "</div>"
      ],
      "text/plain": [
       "     Show_Id Category           Title  \\\n",
       "2832   s2833  TV Show  House of Cards   \n",
       "\n",
       "                                               Director  \\\n",
       "2832  Robin Wright, David Fincher, Gerald McRaney, J...   \n",
       "\n",
       "                                                   Cast        Country  \\\n",
       "2832  Kevin Spacey, Robin Wright, Kate Mara, Corey S...  United States   \n",
       "\n",
       "          Release_Date Rating   Duration                     Type  \\\n",
       "2832  November 2, 2018  TV-MA  6 Seasons  TV Dramas, TV Thrillers   \n",
       "\n",
       "                                            Description  \n",
       "2832  A ruthless politician will stop at nothing to ...  "
      ]
     },
     "execution_count": 4,
     "metadata": {},
     "output_type": "execute_result"
    }
   ],
   "source": [
    "# Q. 1) For 'House of Cards', what is the Show Id and Who is the Director of this show\n",
    "House_of_Cards = netflix[  netflix['Title'] == 'House of Cards'] \n",
    "\n",
    "House_of_Cards_show_id = House_of_Cards.at[2832, 'Show_Id']\n",
    "House_of_Cards_Director= House_of_Cards.at[2832, 'Director']\n",
    "print(House_of_Cards_show_id+' , '+ House_of_Cards_Director)\n",
    "House_of_Cards"
   ]
  },
  {
   "cell_type": "markdown",
   "id": "cf6bd068-6f9e-48e0-91b7-428f0f1cfac5",
   "metadata": {},
   "source": [
    " ---"
   ]
  },
  {
   "cell_type": "markdown",
   "id": "c641c8f6-b624-459a-be80-c1dd28bcc189",
   "metadata": {},
   "source": [
    "#### Q. 2) In which year the highest number of the TV Shows & Movies were released ? Show with Bar Graph. "
   ]
  },
  {
   "cell_type": "code",
   "execution_count": 5,
   "id": "ec3634f8-4f47-476d-81d1-1b799ede88a1",
   "metadata": {
    "scrolled": true
   },
   "outputs": [
    {
     "name": "stdout",
     "output_type": "stream",
     "text": [
      "2019.0\n"
     ]
    }
   ],
   "source": [
    "# Q. 2) In which year the highest number of the TV Shows & Movies were released ? Show with Bar Graph.\n",
    "\n",
    "###### making year column\n",
    "netflix['Release_Date']= pd.to_datetime(netflix['Release_Date'],format='mixed')\n",
    "netflix['year']= netflix['Release_Date'].dt.year\n",
    "\n",
    "highest_release_year = netflix.groupby('year')['year'].count().idxmax()\n",
    "print(highest_release_year)"
   ]
  },
  {
   "cell_type": "markdown",
   "id": "fb736183-fdba-4926-a36a-cf2408d66c67",
   "metadata": {},
   "source": [
    " ---"
   ]
  },
  {
   "cell_type": "markdown",
   "id": "93227190-6c64-4d50-9f8a-598ae627de2a",
   "metadata": {},
   "source": [
    "#### Q. 3) How many Movies & TV Shows are in the dataset ? Show with Bar Graph."
   ]
  },
  {
   "cell_type": "code",
   "execution_count": 6,
   "id": "d9a4a511-e431-4dc1-97ce-d10e7cf6042e",
   "metadata": {},
   "outputs": [
    {
     "name": "stdout",
     "output_type": "stream",
     "text": [
      "Category\n",
      "Movie      5379\n",
      "TV Show    2410\n",
      "Name: count, dtype: int64\n"
     ]
    },
    {
     "data": {
      "text/plain": [
       "<Axes: xlabel='Category', ylabel='count'>"
      ]
     },
     "execution_count": 6,
     "metadata": {},
     "output_type": "execute_result"
    },
    {
     "data": {
      "image/png": "[encoded data removed]",
      "text/plain": [
       "<Figure size 640x480 with 1 Axes>"
      ]
     },
     "metadata": {},
     "output_type": "display_data"
    }
   ],
   "source": [
    "# Q. 3) How many Movies & TV Shows are in the dataset ? Show with Bar Graph.\n",
    "print(netflix['Category'].value_counts())\n",
    "sns.countplot(x=netflix['Category'])"
   ]
  },
  {
   "cell_type": "markdown",
   "id": "a4e2827f-0a97-48e6-948e-de6b3fed0ae8",
   "metadata": {},
   "source": [
    " ---"
   ]
  },
  {
   "cell_type": "markdown",
   "id": "3473b2f3-9789-485e-902e-2795721068f3",
   "metadata": {},
   "source": [
    "#### Q.  4) Show all the Movies that were released in year 2020."
   ]
  },
  {
   "cell_type": "code",
   "execution_count": 7,
   "id": "5053fe81-1611-40eb-babd-0d3d5366417f",
   "metadata": {},
   "outputs": [
    {
     "data": {
      "text/html": [
       "<div>\n",
       "<style scoped>\n",
       "    .dataframe tbody tr th:only-of-type {\n",
       "        vertical-align: middle;\n",
       "    }\n",
       "\n",
       "    .dataframe tbody tr th {\n",
       "        vertical-align: top;\n",
       "    }\n",
       "\n",
       "    .dataframe thead th {\n",
       "        text-align: right;\n",
       "    }\n",
       "</style>\n",
       "<table border=\"1\" class=\"dataframe\">\n",
       "  <thead>\n",
       "    <tr style=\"text-align: right;\">\n",
       "      <th></th>\n",
       "      <th>Show_Id</th>\n",
       "      <th>Category</th>\n",
       "      <th>Title</th>\n",
       "      <th>Director</th>\n",
       "      <th>Cast</th>\n",
       "      <th>Country</th>\n",
       "      <th>Release_Date</th>\n",
       "      <th>Rating</th>\n",
       "      <th>Duration</th>\n",
       "      <th>Type</th>\n",
       "      <th>Description</th>\n",
       "      <th>year</th>\n",
       "    </tr>\n",
       "  </thead>\n",
       "  <tbody>\n",
       "    <tr>\n",
       "      <th>0</th>\n",
       "      <td>s1</td>\n",
       "      <td>TV Show</td>\n",
       "      <td>3%</td>\n",
       "      <td>NaN</td>\n",
       "      <td>João Miguel, Bianca Comparato, Michel Gomes, R...</td>\n",
       "      <td>Brazil</td>\n",
       "      <td>2020-08-14</td>\n",
       "      <td>TV-MA</td>\n",
       "      <td>4 Seasons</td>\n",
       "      <td>International TV Shows, TV Dramas, TV Sci-Fi &amp;...</td>\n",
       "      <td>In a future where the elite inhabit an island ...</td>\n",
       "      <td>2020.0</td>\n",
       "    </tr>\n",
       "    <tr>\n",
       "      <th>4</th>\n",
       "      <td>s5</td>\n",
       "      <td>Movie</td>\n",
       "      <td>21</td>\n",
       "      <td>Robert Luketic</td>\n",
       "      <td>Jim Sturgess, Kevin Spacey, Kate Bosworth, Aar...</td>\n",
       "      <td>United States</td>\n",
       "      <td>2020-01-01</td>\n",
       "      <td>PG-13</td>\n",
       "      <td>123 min</td>\n",
       "      <td>Dramas</td>\n",
       "      <td>A brilliant group of students become card-coun...</td>\n",
       "      <td>2020.0</td>\n",
       "    </tr>\n",
       "    <tr>\n",
       "      <th>6</th>\n",
       "      <td>s7</td>\n",
       "      <td>Movie</td>\n",
       "      <td>122</td>\n",
       "      <td>Yasir Al Yasiri</td>\n",
       "      <td>Amina Khalil, Ahmed Dawood, Tarek Lotfy, Ahmed...</td>\n",
       "      <td>Egypt</td>\n",
       "      <td>2020-06-01</td>\n",
       "      <td>TV-MA</td>\n",
       "      <td>95 min</td>\n",
       "      <td>Horror Movies, International Movies</td>\n",
       "      <td>After an awful accident, a couple admitted to ...</td>\n",
       "      <td>2020.0</td>\n",
       "    </tr>\n",
       "    <tr>\n",
       "      <th>14</th>\n",
       "      <td>s15</td>\n",
       "      <td>Movie</td>\n",
       "      <td>3022</td>\n",
       "      <td>John Suits</td>\n",
       "      <td>Omar Epps, Kate Walsh, Miranda Cosgrove, Angus...</td>\n",
       "      <td>United States</td>\n",
       "      <td>2020-03-19</td>\n",
       "      <td>R</td>\n",
       "      <td>91 min</td>\n",
       "      <td>Independent Movies, Sci-Fi &amp; Fantasy, Thrillers</td>\n",
       "      <td>Stranded when the Earth is suddenly destroyed ...</td>\n",
       "      <td>2020.0</td>\n",
       "    </tr>\n",
       "    <tr>\n",
       "      <th>24</th>\n",
       "      <td>s25</td>\n",
       "      <td>TV Show</td>\n",
       "      <td>​SAINT SEIYA: Knights of the Zodiac</td>\n",
       "      <td>NaN</td>\n",
       "      <td>Bryson Baugus, Emily Neves, Blake Shepard, Pat...</td>\n",
       "      <td>Japan</td>\n",
       "      <td>2020-01-23</td>\n",
       "      <td>TV-14</td>\n",
       "      <td>2 Seasons</td>\n",
       "      <td>Anime Series, International TV Shows</td>\n",
       "      <td>Seiya and the Knights of the Zodiac rise again...</td>\n",
       "      <td>2020.0</td>\n",
       "    </tr>\n",
       "  </tbody>\n",
       "</table>\n",
       "</div>"
      ],
      "text/plain": [
       "   Show_Id Category                                Title         Director  \\\n",
       "0       s1  TV Show                                   3%              NaN   \n",
       "4       s5    Movie                                   21   Robert Luketic   \n",
       "6       s7    Movie                                  122  Yasir Al Yasiri   \n",
       "14     s15    Movie                                 3022       John Suits   \n",
       "24     s25  TV Show  ​SAINT SEIYA: Knights of the Zodiac              NaN   \n",
       "\n",
       "                                                 Cast        Country  \\\n",
       "0   João Miguel, Bianca Comparato, Michel Gomes, R...         Brazil   \n",
       "4   Jim Sturgess, Kevin Spacey, Kate Bosworth, Aar...  United States   \n",
       "6   Amina Khalil, Ahmed Dawood, Tarek Lotfy, Ahmed...          Egypt   \n",
       "14  Omar Epps, Kate Walsh, Miranda Cosgrove, Angus...  United States   \n",
       "24  Bryson Baugus, Emily Neves, Blake Shepard, Pat...          Japan   \n",
       "\n",
       "   Release_Date Rating   Duration  \\\n",
       "0    2020-08-14  TV-MA  4 Seasons   \n",
       "4    2020-01-01  PG-13    123 min   \n",
       "6    2020-06-01  TV-MA     95 min   \n",
       "14   2020-03-19      R     91 min   \n",
       "24   2020-01-23  TV-14  2 Seasons   \n",
       "\n",
       "                                                 Type  \\\n",
       "0   International TV Shows, TV Dramas, TV Sci-Fi &...   \n",
       "4                                              Dramas   \n",
       "6                 Horror Movies, International Movies   \n",
       "14    Independent Movies, Sci-Fi & Fantasy, Thrillers   \n",
       "24               Anime Series, International TV Shows   \n",
       "\n",
       "                                          Description    year  \n",
       "0   In a future where the elite inhabit an island ...  2020.0  \n",
       "4   A brilliant group of students become card-coun...  2020.0  \n",
       "6   After an awful accident, a couple admitted to ...  2020.0  \n",
       "14  Stranded when the Earth is suddenly destroyed ...  2020.0  \n",
       "24  Seiya and the Knights of the Zodiac rise again...  2020.0  "
      ]
     },
     "execution_count": 7,
     "metadata": {},
     "output_type": "execute_result"
    }
   ],
   "source": [
    "# Q. 4) Show all the Movies that were released in year 2020.\n",
    "movies_2000= netflix[ ( netflix['year'] == 2020) ]\n",
    "movies_2000.head()"
   ]
  },
  {
   "cell_type": "markdown",
   "id": "b591712b-578c-4cfe-9f85-f22ca77d88e2",
   "metadata": {},
   "source": [
    " ---"
   ]
  },
  {
   "cell_type": "markdown",
   "id": "654d6afc-d60d-4f21-8b4a-8e18d0b00b03",
   "metadata": {},
   "source": [
    "#### Q. 5) Show only the Titles of all TV Shows that were released in India only."
   ]
  },
  {
   "cell_type": "code",
   "execution_count": 8,
   "id": "1b215005-b030-470f-a821-6769f44b2428",
   "metadata": {},
   "outputs": [
    {
     "data": {
      "text/plain": [
       "86            21 Sarfarosh: Saragarhi 1897\n",
       "132                              7 (Seven)\n",
       "340                           Agent Raghav\n",
       "364                           Akbar Birbal\n",
       "533                    Anjaan: Rural Myths\n",
       "                       ...                \n",
       "6249                  The Creative Indians\n",
       "6400    The Golden Years with Javed Akhtar\n",
       "6469                The House That Made Me\n",
       "7294                            Typewriter\n",
       "7705                       Yeh Meri Family\n",
       "Name: Title, Length: 71, dtype: object"
      ]
     },
     "execution_count": 8,
     "metadata": {},
     "output_type": "execute_result"
    }
   ],
   "source": [
    "# Q. 5) Show only the Titles of all TV Shows that were released in India only.\n",
    "\n",
    "india_released_titles = netflix[ (netflix['Category']=='TV Show') & (netflix['Country']=='India')]['Title']\n",
    "india_released_titles"
   ]
  },
  {
   "cell_type": "markdown",
   "id": "8c394593-0e76-4843-a882-3f9b23d9ed00",
   "metadata": {},
   "source": [
    " ---"
   ]
  },
  {
   "cell_type": "markdown",
   "id": "43c264c4-5d56-404d-b9ca-14d1b215cad4",
   "metadata": {},
   "source": [
    "#### Q. 6) Show Top 10 Directors, who gave the highest number of TV Shows & Movies to Netflix ?"
   ]
  },
  {
   "cell_type": "code",
   "execution_count": 9,
   "id": "bccc1129-ab29-4316-bb68-83711a320ef6",
   "metadata": {},
   "outputs": [
    {
     "data": {
      "text/plain": [
       "Director\n",
       "Raúl Campos, Jan Suter    18\n",
       "Marcus Raboy              16\n",
       "Jay Karas                 14\n",
       "Cathy Garcia-Molina       13\n",
       "Youssef Chahine           12\n",
       "Martin Scorsese           12\n",
       "Jay Chapman               12\n",
       "Steven Spielberg          10\n",
       "David Dhawan               9\n",
       "Ryan Polito                8\n",
       "Name: count, dtype: int64"
      ]
     },
     "execution_count": 9,
     "metadata": {},
     "output_type": "execute_result"
    }
   ],
   "source": [
    "# Q. 6) Show Top 10 Directors, who gave the highest number of TV Shows & Movies to Netflix ?\n",
    "\n",
    "netflix['Director'].value_counts().head(10)"
   ]
  },
  {
   "cell_type": "markdown",
   "id": "d5960dac-f261-4370-b40b-f2d0a5ffb797",
   "metadata": {},
   "source": [
    " ---"
   ]
  },
  {
   "cell_type": "markdown",
   "id": "f3e78409-83d7-49c2-ad9e-08857eccf45d",
   "metadata": {},
   "source": [
    "#### Q. 7) Show all the Records, where \"Category is Movie and Type is Comedies\" or \"Country is United Kingdom\"."
   ]
  },
  {
   "cell_type": "code",
   "execution_count": 10,
   "id": "b5f231ee-e485-4084-8c69-80605bd14557",
   "metadata": {},
   "outputs": [
    {
     "data": {
      "text/html": [
       "<div>\n",
       "<style scoped>\n",
       "    .dataframe tbody tr th:only-of-type {\n",
       "        vertical-align: middle;\n",
       "    }\n",
       "\n",
       "    .dataframe tbody tr th {\n",
       "        vertical-align: top;\n",
       "    }\n",
       "\n",
       "    .dataframe thead th {\n",
       "        text-align: right;\n",
       "    }\n",
       "</style>\n",
       "<table border=\"1\" class=\"dataframe\">\n",
       "  <thead>\n",
       "    <tr style=\"text-align: right;\">\n",
       "      <th></th>\n",
       "      <th>Show_Id</th>\n",
       "      <th>Category</th>\n",
       "      <th>Title</th>\n",
       "      <th>Director</th>\n",
       "      <th>Cast</th>\n",
       "      <th>Country</th>\n",
       "      <th>Release_Date</th>\n",
       "      <th>Rating</th>\n",
       "      <th>Duration</th>\n",
       "      <th>Type</th>\n",
       "      <th>Description</th>\n",
       "      <th>year</th>\n",
       "    </tr>\n",
       "  </thead>\n",
       "  <tbody>\n",
       "    <tr>\n",
       "      <th>18</th>\n",
       "      <td>s19</td>\n",
       "      <td>Movie</td>\n",
       "      <td>15-Aug</td>\n",
       "      <td>Swapnaneel Jayakar</td>\n",
       "      <td>Rahul Pethe, Mrunmayee Deshpande, Adinath Koth...</td>\n",
       "      <td>India</td>\n",
       "      <td>2019-03-29</td>\n",
       "      <td>TV-14</td>\n",
       "      <td>124 min</td>\n",
       "      <td>Comedies, Dramas, Independent Movies</td>\n",
       "      <td>On India's Independence Day, a zany mishap in ...</td>\n",
       "      <td>2019.0</td>\n",
       "    </tr>\n",
       "    <tr>\n",
       "      <th>19</th>\n",
       "      <td>s20</td>\n",
       "      <td>Movie</td>\n",
       "      <td>'89</td>\n",
       "      <td>NaN</td>\n",
       "      <td>Lee Dixon, Ian Wright, Paul Merson</td>\n",
       "      <td>United Kingdom</td>\n",
       "      <td>2018-05-16</td>\n",
       "      <td>TV-PG</td>\n",
       "      <td>87 min</td>\n",
       "      <td>Sports Movies</td>\n",
       "      <td>Mixing old footage with interviews, this is th...</td>\n",
       "      <td>2018.0</td>\n",
       "    </tr>\n",
       "    <tr>\n",
       "      <th>33</th>\n",
       "      <td>s34</td>\n",
       "      <td>Movie</td>\n",
       "      <td>#realityhigh</td>\n",
       "      <td>Fernando Lebrija</td>\n",
       "      <td>Nesta Cooper, Kate Walsh, John Michael Higgins...</td>\n",
       "      <td>United States</td>\n",
       "      <td>2017-09-08</td>\n",
       "      <td>TV-14</td>\n",
       "      <td>99 min</td>\n",
       "      <td>Comedies</td>\n",
       "      <td>When nerdy high schooler Dani finally attracts...</td>\n",
       "      <td>2017.0</td>\n",
       "    </tr>\n",
       "    <tr>\n",
       "      <th>34</th>\n",
       "      <td>s35</td>\n",
       "      <td>Movie</td>\n",
       "      <td>#Roxy</td>\n",
       "      <td>Michael Kennedy</td>\n",
       "      <td>Jake Short, Sarah Fisher, Booboo Stewart, Dann...</td>\n",
       "      <td>Canada</td>\n",
       "      <td>2019-04-10</td>\n",
       "      <td>TV-14</td>\n",
       "      <td>105 min</td>\n",
       "      <td>Comedies, Romantic Movies</td>\n",
       "      <td>A teenage hacker with a huge nose helps a cool...</td>\n",
       "      <td>2019.0</td>\n",
       "    </tr>\n",
       "    <tr>\n",
       "      <th>36</th>\n",
       "      <td>s37</td>\n",
       "      <td>Movie</td>\n",
       "      <td>#Selfie</td>\n",
       "      <td>Cristina Jacob</td>\n",
       "      <td>Flavia Hojda, Crina Semciuc, Olimpia Melinte, ...</td>\n",
       "      <td>Romania</td>\n",
       "      <td>2019-06-01</td>\n",
       "      <td>TV-MA</td>\n",
       "      <td>125 min</td>\n",
       "      <td>Comedies, Dramas, International Movies</td>\n",
       "      <td>Two days before their final exams, three teen ...</td>\n",
       "      <td>2019.0</td>\n",
       "    </tr>\n",
       "  </tbody>\n",
       "</table>\n",
       "</div>"
      ],
      "text/plain": [
       "   Show_Id Category         Title            Director  \\\n",
       "18     s19    Movie        15-Aug  Swapnaneel Jayakar   \n",
       "19     s20    Movie           '89                 NaN   \n",
       "33     s34    Movie  #realityhigh    Fernando Lebrija   \n",
       "34     s35    Movie         #Roxy     Michael Kennedy   \n",
       "36     s37    Movie       #Selfie      Cristina Jacob   \n",
       "\n",
       "                                                 Cast         Country  \\\n",
       "18  Rahul Pethe, Mrunmayee Deshpande, Adinath Koth...           India   \n",
       "19                 Lee Dixon, Ian Wright, Paul Merson  United Kingdom   \n",
       "33  Nesta Cooper, Kate Walsh, John Michael Higgins...   United States   \n",
       "34  Jake Short, Sarah Fisher, Booboo Stewart, Dann...          Canada   \n",
       "36  Flavia Hojda, Crina Semciuc, Olimpia Melinte, ...         Romania   \n",
       "\n",
       "   Release_Date Rating Duration                                    Type  \\\n",
       "18   2019-03-29  TV-14  124 min    Comedies, Dramas, Independent Movies   \n",
       "19   2018-05-16  TV-PG   87 min                           Sports Movies   \n",
       "33   2017-09-08  TV-14   99 min                                Comedies   \n",
       "34   2019-04-10  TV-14  105 min               Comedies, Romantic Movies   \n",
       "36   2019-06-01  TV-MA  125 min  Comedies, Dramas, International Movies   \n",
       "\n",
       "                                          Description    year  \n",
       "18  On India's Independence Day, a zany mishap in ...  2019.0  \n",
       "19  Mixing old footage with interviews, this is th...  2018.0  \n",
       "33  When nerdy high schooler Dani finally attracts...  2017.0  \n",
       "34  A teenage hacker with a huge nose helps a cool...  2019.0  \n",
       "36  Two days before their final exams, three teen ...  2019.0  "
      ]
     },
     "execution_count": 10,
     "metadata": {},
     "output_type": "execute_result"
    }
   ],
   "source": [
    "# Q. 7) Show all the Records, where \"Category is Movie and Type is Comedies\" or \"Country is United Kingdom\".\n",
    "\n",
    "netflix[( netflix['Category']=='Movie' ) & ( netflix['Type'].str.contains('Comedies') ) | ( netflix['Country']=='United Kingdom' ) ].head()"
   ]
  },
  {
   "cell_type": "markdown",
   "id": "cfededed-9629-4d9e-bc97-fb251ef847a9",
   "metadata": {},
   "source": [
    " ---"
   ]
  },
  {
   "cell_type": "markdown",
   "id": "436c35ae-e707-423e-94e1-e4cf493bfb05",
   "metadata": {},
   "source": [
    "#### Q.  8) In how many movies/shows, Tom Cruise was cast ?"
   ]
  },
  {
   "cell_type": "code",
   "execution_count": 11,
   "id": "48348f76-9a4a-4d96-bc93-3137d4e223f2",
   "metadata": {},
   "outputs": [
    {
     "data": {
      "text/html": [
       "<div>\n",
       "<style scoped>\n",
       "    .dataframe tbody tr th:only-of-type {\n",
       "        vertical-align: middle;\n",
       "    }\n",
       "\n",
       "    .dataframe tbody tr th {\n",
       "        vertical-align: top;\n",
       "    }\n",
       "\n",
       "    .dataframe thead th {\n",
       "        text-align: right;\n",
       "    }\n",
       "</style>\n",
       "<table border=\"1\" class=\"dataframe\">\n",
       "  <thead>\n",
       "    <tr style=\"text-align: right;\">\n",
       "      <th></th>\n",
       "      <th>Show_Id</th>\n",
       "      <th>Category</th>\n",
       "      <th>Title</th>\n",
       "      <th>Director</th>\n",
       "      <th>Cast</th>\n",
       "      <th>Country</th>\n",
       "      <th>Release_Date</th>\n",
       "      <th>Rating</th>\n",
       "      <th>Duration</th>\n",
       "      <th>Type</th>\n",
       "      <th>Description</th>\n",
       "      <th>year</th>\n",
       "    </tr>\n",
       "  </thead>\n",
       "  <tbody>\n",
       "    <tr>\n",
       "      <th>3860</th>\n",
       "      <td>s3861</td>\n",
       "      <td>Movie</td>\n",
       "      <td>Magnolia</td>\n",
       "      <td>Paul Thomas Anderson</td>\n",
       "      <td>Jeremy Blackman, Tom Cruise, Melinda Dillon, A...</td>\n",
       "      <td>United States</td>\n",
       "      <td>2020-01-01</td>\n",
       "      <td>R</td>\n",
       "      <td>189 min</td>\n",
       "      <td>Dramas, Independent Movies</td>\n",
       "      <td>Through chance, human action, past history and...</td>\n",
       "      <td>2020.0</td>\n",
       "    </tr>\n",
       "    <tr>\n",
       "      <th>5071</th>\n",
       "      <td>s5071</td>\n",
       "      <td>Movie</td>\n",
       "      <td>Rain Man</td>\n",
       "      <td>Barry Levinson</td>\n",
       "      <td>Dustin Hoffman, Tom Cruise, Valeria Golino, Ge...</td>\n",
       "      <td>United States</td>\n",
       "      <td>2019-07-01</td>\n",
       "      <td>R</td>\n",
       "      <td>134 min</td>\n",
       "      <td>Classic Movies, Dramas</td>\n",
       "      <td>A fast-talking yuppie is forced to slow down w...</td>\n",
       "      <td>2019.0</td>\n",
       "    </tr>\n",
       "  </tbody>\n",
       "</table>\n",
       "</div>"
      ],
      "text/plain": [
       "     Show_Id Category     Title              Director  \\\n",
       "3860   s3861    Movie  Magnolia  Paul Thomas Anderson   \n",
       "5071   s5071    Movie  Rain Man        Barry Levinson   \n",
       "\n",
       "                                                   Cast        Country  \\\n",
       "3860  Jeremy Blackman, Tom Cruise, Melinda Dillon, A...  United States   \n",
       "5071  Dustin Hoffman, Tom Cruise, Valeria Golino, Ge...  United States   \n",
       "\n",
       "     Release_Date Rating Duration                        Type  \\\n",
       "3860   2020-01-01      R  189 min  Dramas, Independent Movies   \n",
       "5071   2019-07-01      R  134 min      Classic Movies, Dramas   \n",
       "\n",
       "                                            Description    year  \n",
       "3860  Through chance, human action, past history and...  2020.0  \n",
       "5071  A fast-talking yuppie is forced to slow down w...  2019.0  "
      ]
     },
     "execution_count": 11,
     "metadata": {},
     "output_type": "execute_result"
    }
   ],
   "source": [
    "# Q. 8) In how many movies/shows, Tom Cruise was cast ?\n",
    "\n",
    "netflix_droped= netflix.dropna()\n",
    "netflix_droped[ netflix_droped['Cast'].str.contains('Tom Cruise') ]"
   ]
  },
  {
   "cell_type": "markdown",
   "id": "71f6f8d2-f80e-47cc-be08-83e743655107",
   "metadata": {},
   "source": [
    " ---"
   ]
  },
  {
   "cell_type": "markdown",
   "id": "153a700b-7a94-4b24-b9eb-4ff2c32856ee",
   "metadata": {},
   "source": [
    "####  Q. 9) What are the different Ratings defined by Netflix ?\n",
    "#### Q. 9.1) How many Movies got the 'TV-14' rating, in Canada ?\n",
    "#### Q. 9.2) How many TV Shows got the 'R' rating, after year 2018 ?"
   ]
  },
  {
   "cell_type": "code",
   "execution_count": 12,
   "id": "c021bf2b-bf32-49ad-8635-5c0262e1a522",
   "metadata": {},
   "outputs": [
    {
     "name": "stdout",
     "output_type": "stream",
     "text": [
      "Different Ratings is: ['TV-MA' 'R' 'PG-13' 'TV-14' 'TV-PG' 'NR' 'TV-G' 'TV-Y' nan 'TV-Y7' 'PG'\n",
      " 'G' 'NC-17' 'TV-Y7-FV' 'UR']\n"
     ]
    }
   ],
   "source": [
    "# Q. 9) What are the different Ratings defined by Netflix ?\n",
    "\n",
    "Ratings = netflix['Rating'].unique()\n",
    "print('Different Ratings is: '+str(Ratings))\n"
   ]
  },
  {
   "cell_type": "code",
   "execution_count": 13,
   "id": "4463a336-cb63-46f8-8a2a-ad8bac740368",
   "metadata": {},
   "outputs": [
    {
     "data": {
      "text/plain": [
       "41"
      ]
     },
     "execution_count": 13,
     "metadata": {},
     "output_type": "execute_result"
    }
   ],
   "source": [
    "# Q. 9.1) How many Movies got the 'TV-14' rating, in Canada ?\n",
    "\n",
    "Canada_TV_14 = netflix[ (netflix['Rating']=='TV-MA') & (netflix['Country']=='Canada') & (netflix['Category']=='Movie')].shape[0]\n",
    "Canada_TV_14"
   ]
  },
  {
   "cell_type": "code",
   "execution_count": 14,
   "id": "62e4aa30-1e20-4d99-9454-a41f0bb2ac3c",
   "metadata": {},
   "outputs": [
    {
     "data": {
      "text/plain": [
       "0"
      ]
     },
     "execution_count": 14,
     "metadata": {},
     "output_type": "execute_result"
    }
   ],
   "source": [
    "# Q. 9.2) How many TV Shows got the 'R' rating, after year 2018 ?\n",
    "\n",
    "R_after_2018 = netflix[ (netflix['Rating'] == 'R') & (netflix_droped['year'].astype(int) > 2018) & (netflix['Category'] == 'TV Show') ].shape[0]\n",
    "R_after_2018"
   ]
  },
  {
   "cell_type": "markdown",
   "id": "cecc4488-bd14-4859-b72d-a96b8f31c27a",
   "metadata": {},
   "source": [
    " ---"
   ]
  },
  {
   "cell_type": "markdown",
   "id": "fbc69553-33a3-4af9-b262-87c272f4a11c",
   "metadata": {},
   "source": [
    "#### Q. 10) What is the maximum duration of a Movie/Show on Netflix ?"
   ]
  },
  {
   "cell_type": "code",
   "execution_count": 15,
   "id": "ff9cb73e-0e6f-4a2d-960a-290cf8c4ad2e",
   "metadata": {},
   "outputs": [
    {
     "data": {
      "text/plain": [
       "312"
      ]
     },
     "execution_count": 15,
     "metadata": {},
     "output_type": "execute_result"
    }
   ],
   "source": [
    "# Q. 10) What is the maximum duration of a Movie/Show on Netflix ?\n",
    "\n",
    "max_duration= netflix['Duration'].str.split(' ').str.get(0).astype(int).max()\n",
    "max_duration"
   ]
  },
  {
   "cell_type": "markdown",
   "id": "0b02d031-1388-41cb-b6fa-714af2b0d5a6",
   "metadata": {},
   "source": [
    " ---"
   ]
  },
  {
   "cell_type": "markdown",
   "id": "b0aa398b-01e9-4a0f-8a0c-071723344ebc",
   "metadata": {},
   "source": [
    "#### Q.  11) Which individual country has the Highest No. of TV Shows ?"
   ]
  },
  {
   "cell_type": "code",
   "execution_count": 16,
   "id": "0f1042fb-4558-4d44-b2bf-d217958557d6",
   "metadata": {},
   "outputs": [
    {
     "data": {
      "text/plain": [
       "'United States'"
      ]
     },
     "execution_count": 16,
     "metadata": {},
     "output_type": "execute_result"
    }
   ],
   "source": [
    "# Q. 11) Which individual country has the Highest No. of TV Shows ?\n",
    "\n",
    "netflix[(netflix['Category']=='TV Show')]['Country'].value_counts().idxmax()"
   ]
  },
  {
   "cell_type": "markdown",
   "id": "99d16728-a1d9-4399-af00-e95932577cd0",
   "metadata": {},
   "source": [
    " ---"
   ]
  },
  {
   "cell_type": "markdown",
   "id": "e14888cf-870b-44ac-a080-92f0393c0f31",
   "metadata": {},
   "source": [
    "#### Q. 12) How can we sort the dataset by Year ?"
   ]
  },
  {
   "cell_type": "code",
   "execution_count": 17,
   "id": "8f493702-f04b-430f-8fdf-3f71818ac299",
   "metadata": {},
   "outputs": [
    {
     "data": {
      "text/html": [
       "<div>\n",
       "<style scoped>\n",
       "    .dataframe tbody tr th:only-of-type {\n",
       "        vertical-align: middle;\n",
       "    }\n",
       "\n",
       "    .dataframe tbody tr th {\n",
       "        vertical-align: top;\n",
       "    }\n",
       "\n",
       "    .dataframe thead th {\n",
       "        text-align: right;\n",
       "    }\n",
       "</style>\n",
       "<table border=\"1\" class=\"dataframe\">\n",
       "  <thead>\n",
       "    <tr style=\"text-align: right;\">\n",
       "      <th></th>\n",
       "      <th>Show_Id</th>\n",
       "      <th>Category</th>\n",
       "      <th>Title</th>\n",
       "      <th>Director</th>\n",
       "      <th>Cast</th>\n",
       "      <th>Country</th>\n",
       "      <th>Release_Date</th>\n",
       "      <th>Rating</th>\n",
       "      <th>Duration</th>\n",
       "      <th>Type</th>\n",
       "      <th>Description</th>\n",
       "      <th>year</th>\n",
       "    </tr>\n",
       "  </thead>\n",
       "  <tbody>\n",
       "    <tr>\n",
       "      <th>1765</th>\n",
       "      <td>s1766</td>\n",
       "      <td>TV Show</td>\n",
       "      <td>Dinner for Five</td>\n",
       "      <td>NaN</td>\n",
       "      <td>NaN</td>\n",
       "      <td>United States</td>\n",
       "      <td>2008-02-04</td>\n",
       "      <td>TV-MA</td>\n",
       "      <td>1 Season</td>\n",
       "      <td>Stand-Up Comedy &amp; Talk Shows</td>\n",
       "      <td>In each episode, four celebrities join host Jo...</td>\n",
       "      <td>2008.0</td>\n",
       "    </tr>\n",
       "    <tr>\n",
       "      <th>7115</th>\n",
       "      <td>s7114</td>\n",
       "      <td>Movie</td>\n",
       "      <td>To and From New York</td>\n",
       "      <td>Sorin Dan Mihalcescu</td>\n",
       "      <td>Barbara King, Shaana Diya, John Krisiukenas, Y...</td>\n",
       "      <td>United States</td>\n",
       "      <td>2008-01-01</td>\n",
       "      <td>TV-MA</td>\n",
       "      <td>81 min</td>\n",
       "      <td>Dramas, Independent Movies, Thrillers</td>\n",
       "      <td>While covering a story in New York City, a Sea...</td>\n",
       "      <td>2008.0</td>\n",
       "    </tr>\n",
       "    <tr>\n",
       "      <th>5766</th>\n",
       "      <td>s5766</td>\n",
       "      <td>Movie</td>\n",
       "      <td>Splatter</td>\n",
       "      <td>Joe Dante</td>\n",
       "      <td>Corey Feldman, Tony Todd, Tara Leigh, Erin Way...</td>\n",
       "      <td>United States</td>\n",
       "      <td>2009-11-18</td>\n",
       "      <td>TV-MA</td>\n",
       "      <td>29 min</td>\n",
       "      <td>Horror Movies</td>\n",
       "      <td>After committing suicide, a washed-up rocker r...</td>\n",
       "      <td>2009.0</td>\n",
       "    </tr>\n",
       "    <tr>\n",
       "      <th>3248</th>\n",
       "      <td>s3249</td>\n",
       "      <td>Movie</td>\n",
       "      <td>Just Another Love Story</td>\n",
       "      <td>Ole Bornedal</td>\n",
       "      <td>Anders W. Berthelsen, Rebecka Hemse, Nikolaj L...</td>\n",
       "      <td>Denmark</td>\n",
       "      <td>2009-05-05</td>\n",
       "      <td>TV-MA</td>\n",
       "      <td>104 min</td>\n",
       "      <td>Dramas, International Movies</td>\n",
       "      <td>When he causes a car accident that leaves a yo...</td>\n",
       "      <td>2009.0</td>\n",
       "    </tr>\n",
       "    <tr>\n",
       "      <th>3840</th>\n",
       "      <td>s3841</td>\n",
       "      <td>Movie</td>\n",
       "      <td>Mad Ron's Prevues from Hell</td>\n",
       "      <td>Jim Monaco</td>\n",
       "      <td>Nick Pawlow, Jordu Schell, Jay Kushwara, Micha...</td>\n",
       "      <td>United States</td>\n",
       "      <td>2010-11-01</td>\n",
       "      <td>NR</td>\n",
       "      <td>84 min</td>\n",
       "      <td>Cult Movies, Horror Movies</td>\n",
       "      <td>This collection cherry-picks trailers, forgott...</td>\n",
       "      <td>2010.0</td>\n",
       "    </tr>\n",
       "  </tbody>\n",
       "</table>\n",
       "</div>"
      ],
      "text/plain": [
       "     Show_Id Category                        Title              Director  \\\n",
       "1765   s1766  TV Show              Dinner for Five                   NaN   \n",
       "7115   s7114    Movie         To and From New York  Sorin Dan Mihalcescu   \n",
       "5766   s5766    Movie                     Splatter             Joe Dante   \n",
       "3248   s3249    Movie      Just Another Love Story          Ole Bornedal   \n",
       "3840   s3841    Movie  Mad Ron's Prevues from Hell            Jim Monaco   \n",
       "\n",
       "                                                   Cast        Country  \\\n",
       "1765                                                NaN  United States   \n",
       "7115  Barbara King, Shaana Diya, John Krisiukenas, Y...  United States   \n",
       "5766  Corey Feldman, Tony Todd, Tara Leigh, Erin Way...  United States   \n",
       "3248  Anders W. Berthelsen, Rebecka Hemse, Nikolaj L...        Denmark   \n",
       "3840  Nick Pawlow, Jordu Schell, Jay Kushwara, Micha...  United States   \n",
       "\n",
       "     Release_Date Rating  Duration                                   Type  \\\n",
       "1765   2008-02-04  TV-MA  1 Season           Stand-Up Comedy & Talk Shows   \n",
       "7115   2008-01-01  TV-MA    81 min  Dramas, Independent Movies, Thrillers   \n",
       "5766   2009-11-18  TV-MA    29 min                          Horror Movies   \n",
       "3248   2009-05-05  TV-MA   104 min           Dramas, International Movies   \n",
       "3840   2010-11-01     NR    84 min             Cult Movies, Horror Movies   \n",
       "\n",
       "                                            Description    year  \n",
       "1765  In each episode, four celebrities join host Jo...  2008.0  \n",
       "7115  While covering a story in New York City, a Sea...  2008.0  \n",
       "5766  After committing suicide, a washed-up rocker r...  2009.0  \n",
       "3248  When he causes a car accident that leaves a yo...  2009.0  \n",
       "3840  This collection cherry-picks trailers, forgott...  2010.0  "
      ]
     },
     "execution_count": 17,
     "metadata": {},
     "output_type": "execute_result"
    }
   ],
   "source": [
    "# Q. 12) How can we sort the dataset by Year ?\n",
    "\n",
    "netflix.sort_values('year').head()"
   ]
  },
  {
   "cell_type": "markdown",
   "id": "7b2a7c5b-3d48-4d8b-81cb-6f2f182315ac",
   "metadata": {},
   "source": [
    " ---"
   ]
  },
  {
   "cell_type": "markdown",
   "id": "c35eb676-ee93-41e9-b86c-46e30d0d665e",
   "metadata": {},
   "source": [
    "#### Q.13) Find all the instances where: Category is 'Movie' and Type is 'Dramas' or Category is 'TV Show' & Type is 'Kids' TV'.\n"
   ]
  },
  {
   "cell_type": "code",
   "execution_count": 18,
   "id": "e59ae895-bfe5-4a6a-8a82-3c268b81a3eb",
   "metadata": {},
   "outputs": [
    {
     "data": {
      "text/html": [
       "<div>\n",
       "<style scoped>\n",
       "    .dataframe tbody tr th:only-of-type {\n",
       "        vertical-align: middle;\n",
       "    }\n",
       "\n",
       "    .dataframe tbody tr th {\n",
       "        vertical-align: top;\n",
       "    }\n",
       "\n",
       "    .dataframe thead th {\n",
       "        text-align: right;\n",
       "    }\n",
       "</style>\n",
       "<table border=\"1\" class=\"dataframe\">\n",
       "  <thead>\n",
       "    <tr style=\"text-align: right;\">\n",
       "      <th></th>\n",
       "      <th>Show_Id</th>\n",
       "      <th>Category</th>\n",
       "      <th>Title</th>\n",
       "      <th>Director</th>\n",
       "      <th>Cast</th>\n",
       "      <th>Country</th>\n",
       "      <th>Release_Date</th>\n",
       "      <th>Rating</th>\n",
       "      <th>Duration</th>\n",
       "      <th>Type</th>\n",
       "      <th>Description</th>\n",
       "      <th>year</th>\n",
       "    </tr>\n",
       "  </thead>\n",
       "  <tbody>\n",
       "    <tr>\n",
       "      <th>1</th>\n",
       "      <td>s2</td>\n",
       "      <td>Movie</td>\n",
       "      <td>07:19</td>\n",
       "      <td>Jorge Michel Grau</td>\n",
       "      <td>Demián Bichir, Héctor Bonilla, Oscar Serrano, ...</td>\n",
       "      <td>Mexico</td>\n",
       "      <td>2016-12-23</td>\n",
       "      <td>TV-MA</td>\n",
       "      <td>93 min</td>\n",
       "      <td>Dramas, International Movies</td>\n",
       "      <td>After a devastating earthquake hits Mexico Cit...</td>\n",
       "      <td>2016.0</td>\n",
       "    </tr>\n",
       "    <tr>\n",
       "      <th>4</th>\n",
       "      <td>s5</td>\n",
       "      <td>Movie</td>\n",
       "      <td>21</td>\n",
       "      <td>Robert Luketic</td>\n",
       "      <td>Jim Sturgess, Kevin Spacey, Kate Bosworth, Aar...</td>\n",
       "      <td>United States</td>\n",
       "      <td>2020-01-01</td>\n",
       "      <td>PG-13</td>\n",
       "      <td>123 min</td>\n",
       "      <td>Dramas</td>\n",
       "      <td>A brilliant group of students become card-coun...</td>\n",
       "      <td>2020.0</td>\n",
       "    </tr>\n",
       "    <tr>\n",
       "      <th>7</th>\n",
       "      <td>s8</td>\n",
       "      <td>Movie</td>\n",
       "      <td>187</td>\n",
       "      <td>Kevin Reynolds</td>\n",
       "      <td>Samuel L. Jackson, John Heard, Kelly Rowan, Cl...</td>\n",
       "      <td>United States</td>\n",
       "      <td>2019-11-01</td>\n",
       "      <td>R</td>\n",
       "      <td>119 min</td>\n",
       "      <td>Dramas</td>\n",
       "      <td>After one of his high school students attacks ...</td>\n",
       "      <td>2019.0</td>\n",
       "    </tr>\n",
       "    <tr>\n",
       "      <th>10</th>\n",
       "      <td>s11</td>\n",
       "      <td>Movie</td>\n",
       "      <td>1922</td>\n",
       "      <td>Zak Hilditch</td>\n",
       "      <td>Thomas Jane, Molly Parker, Dylan Schmid, Kaitl...</td>\n",
       "      <td>United States</td>\n",
       "      <td>2017-10-20</td>\n",
       "      <td>TV-MA</td>\n",
       "      <td>103 min</td>\n",
       "      <td>Dramas, Thrillers</td>\n",
       "      <td>A farmer pens a confession admitting to his wi...</td>\n",
       "      <td>2017.0</td>\n",
       "    </tr>\n",
       "    <tr>\n",
       "      <th>15</th>\n",
       "      <td>s16</td>\n",
       "      <td>Movie</td>\n",
       "      <td>Oct-01</td>\n",
       "      <td>Kunle Afolayan</td>\n",
       "      <td>Sadiq Daba, David Bailie, Kayode Olaiya, Kehin...</td>\n",
       "      <td>Nigeria</td>\n",
       "      <td>2019-09-01</td>\n",
       "      <td>TV-14</td>\n",
       "      <td>149 min</td>\n",
       "      <td>Dramas, International Movies, Thrillers</td>\n",
       "      <td>Against the backdrop of Nigeria's looming inde...</td>\n",
       "      <td>2019.0</td>\n",
       "    </tr>\n",
       "    <tr>\n",
       "      <th>...</th>\n",
       "      <td>...</td>\n",
       "      <td>...</td>\n",
       "      <td>...</td>\n",
       "      <td>...</td>\n",
       "      <td>...</td>\n",
       "      <td>...</td>\n",
       "      <td>...</td>\n",
       "      <td>...</td>\n",
       "      <td>...</td>\n",
       "      <td>...</td>\n",
       "      <td>...</td>\n",
       "      <td>...</td>\n",
       "    </tr>\n",
       "    <tr>\n",
       "      <th>7776</th>\n",
       "      <td>s7775</td>\n",
       "      <td>Movie</td>\n",
       "      <td>Zodiac</td>\n",
       "      <td>David Fincher</td>\n",
       "      <td>Mark Ruffalo, Jake Gyllenhaal, Robert Downey J...</td>\n",
       "      <td>United States</td>\n",
       "      <td>2019-11-20</td>\n",
       "      <td>R</td>\n",
       "      <td>158 min</td>\n",
       "      <td>Cult Movies, Dramas, Thrillers</td>\n",
       "      <td>A political cartoonist, a crime reporter and a...</td>\n",
       "      <td>2019.0</td>\n",
       "    </tr>\n",
       "    <tr>\n",
       "      <th>7778</th>\n",
       "      <td>s7777</td>\n",
       "      <td>Movie</td>\n",
       "      <td>Zokkomon</td>\n",
       "      <td>Satyajit Bhatkal</td>\n",
       "      <td>Darsheel Safary, Anupam Kher, Manjari Fadnis, ...</td>\n",
       "      <td>India</td>\n",
       "      <td>2018-11-01</td>\n",
       "      <td>PG</td>\n",
       "      <td>104 min</td>\n",
       "      <td>Children &amp; Family Movies, Dramas</td>\n",
       "      <td>When his cruel uncle abandons him, a young orp...</td>\n",
       "      <td>2018.0</td>\n",
       "    </tr>\n",
       "    <tr>\n",
       "      <th>7782</th>\n",
       "      <td>s7781</td>\n",
       "      <td>Movie</td>\n",
       "      <td>Zoo</td>\n",
       "      <td>Shlok Sharma</td>\n",
       "      <td>Shashank Arora, Shweta Tripathi, Rahul Kumar, ...</td>\n",
       "      <td>India</td>\n",
       "      <td>2018-07-01</td>\n",
       "      <td>TV-MA</td>\n",
       "      <td>94 min</td>\n",
       "      <td>Dramas, Independent Movies, International Movies</td>\n",
       "      <td>A drug dealer starts having doubts about his t...</td>\n",
       "      <td>2018.0</td>\n",
       "    </tr>\n",
       "    <tr>\n",
       "      <th>7784</th>\n",
       "      <td>s7783</td>\n",
       "      <td>Movie</td>\n",
       "      <td>Zozo</td>\n",
       "      <td>Josef Fares</td>\n",
       "      <td>Imad Creidi, Antoinette Turk, Elias Gergi, Car...</td>\n",
       "      <td>Sweden, Czech Republic, United Kingdom, Denmar...</td>\n",
       "      <td>2020-10-19</td>\n",
       "      <td>TV-MA</td>\n",
       "      <td>99 min</td>\n",
       "      <td>Dramas, International Movies</td>\n",
       "      <td>When Lebanon's Civil War deprives Zozo of his ...</td>\n",
       "      <td>2020.0</td>\n",
       "    </tr>\n",
       "    <tr>\n",
       "      <th>7785</th>\n",
       "      <td>s7784</td>\n",
       "      <td>Movie</td>\n",
       "      <td>Zubaan</td>\n",
       "      <td>Mozez Singh</td>\n",
       "      <td>Vicky Kaushal, Sarah-Jane Dias, Raaghav Chanan...</td>\n",
       "      <td>India</td>\n",
       "      <td>2019-03-02</td>\n",
       "      <td>TV-14</td>\n",
       "      <td>111 min</td>\n",
       "      <td>Dramas, International Movies, Music &amp; Musicals</td>\n",
       "      <td>A scrappy but poor boy worms his way into a ty...</td>\n",
       "      <td>2019.0</td>\n",
       "    </tr>\n",
       "  </tbody>\n",
       "</table>\n",
       "<p>2053 rows × 12 columns</p>\n",
       "</div>"
      ],
      "text/plain": [
       "     Show_Id Category     Title           Director  \\\n",
       "1         s2    Movie     07:19  Jorge Michel Grau   \n",
       "4         s5    Movie        21     Robert Luketic   \n",
       "7         s8    Movie       187     Kevin Reynolds   \n",
       "10       s11    Movie      1922       Zak Hilditch   \n",
       "15       s16    Movie    Oct-01     Kunle Afolayan   \n",
       "...      ...      ...       ...                ...   \n",
       "7776   s7775    Movie    Zodiac      David Fincher   \n",
       "7778   s7777    Movie  Zokkomon   Satyajit Bhatkal   \n",
       "7782   s7781    Movie       Zoo       Shlok Sharma   \n",
       "7784   s7783    Movie      Zozo        Josef Fares   \n",
       "7785   s7784    Movie    Zubaan        Mozez Singh   \n",
       "\n",
       "                                                   Cast  \\\n",
       "1     Demián Bichir, Héctor Bonilla, Oscar Serrano, ...   \n",
       "4     Jim Sturgess, Kevin Spacey, Kate Bosworth, Aar...   \n",
       "7     Samuel L. Jackson, John Heard, Kelly Rowan, Cl...   \n",
       "10    Thomas Jane, Molly Parker, Dylan Schmid, Kaitl...   \n",
       "15    Sadiq Daba, David Bailie, Kayode Olaiya, Kehin...   \n",
       "...                                                 ...   \n",
       "7776  Mark Ruffalo, Jake Gyllenhaal, Robert Downey J...   \n",
       "7778  Darsheel Safary, Anupam Kher, Manjari Fadnis, ...   \n",
       "7782  Shashank Arora, Shweta Tripathi, Rahul Kumar, ...   \n",
       "7784  Imad Creidi, Antoinette Turk, Elias Gergi, Car...   \n",
       "7785  Vicky Kaushal, Sarah-Jane Dias, Raaghav Chanan...   \n",
       "\n",
       "                                                Country Release_Date Rating  \\\n",
       "1                                                Mexico   2016-12-23  TV-MA   \n",
       "4                                         United States   2020-01-01  PG-13   \n",
       "7                                         United States   2019-11-01      R   \n",
       "10                                        United States   2017-10-20  TV-MA   \n",
       "15                                              Nigeria   2019-09-01  TV-14   \n",
       "...                                                 ...          ...    ...   \n",
       "7776                                      United States   2019-11-20      R   \n",
       "7778                                              India   2018-11-01     PG   \n",
       "7782                                              India   2018-07-01  TV-MA   \n",
       "7784  Sweden, Czech Republic, United Kingdom, Denmar...   2020-10-19  TV-MA   \n",
       "7785                                              India   2019-03-02  TV-14   \n",
       "\n",
       "     Duration                                              Type  \\\n",
       "1      93 min                      Dramas, International Movies   \n",
       "4     123 min                                            Dramas   \n",
       "7     119 min                                            Dramas   \n",
       "10    103 min                                 Dramas, Thrillers   \n",
       "15    149 min           Dramas, International Movies, Thrillers   \n",
       "...       ...                                               ...   \n",
       "7776  158 min                    Cult Movies, Dramas, Thrillers   \n",
       "7778  104 min                  Children & Family Movies, Dramas   \n",
       "7782   94 min  Dramas, Independent Movies, International Movies   \n",
       "7784   99 min                      Dramas, International Movies   \n",
       "7785  111 min    Dramas, International Movies, Music & Musicals   \n",
       "\n",
       "                                            Description    year  \n",
       "1     After a devastating earthquake hits Mexico Cit...  2016.0  \n",
       "4     A brilliant group of students become card-coun...  2020.0  \n",
       "7     After one of his high school students attacks ...  2019.0  \n",
       "10    A farmer pens a confession admitting to his wi...  2017.0  \n",
       "15    Against the backdrop of Nigeria's looming inde...  2019.0  \n",
       "...                                                 ...     ...  \n",
       "7776  A political cartoonist, a crime reporter and a...  2019.0  \n",
       "7778  When his cruel uncle abandons him, a young orp...  2018.0  \n",
       "7782  A drug dealer starts having doubts about his t...  2018.0  \n",
       "7784  When Lebanon's Civil War deprives Zozo of his ...  2020.0  \n",
       "7785  A scrappy but poor boy worms his way into a ty...  2019.0  \n",
       "\n",
       "[2053 rows x 12 columns]"
      ]
     },
     "execution_count": 18,
     "metadata": {},
     "output_type": "execute_result"
    }
   ],
   "source": [
    "# Q. 13) Find all the instances where: Category is 'Movie' and Type is 'Dramas' or Category is 'TV Show' & Type is 'Kids' TV'.\n",
    "\n",
    "netflix[ ( (netflix['Category'] == 'Movie') & (netflix_droped['Type'].str.contains('Dramas') )) | ((netflix['Category'] == 'TV Show') & (netflix_droped['Type'].str.contains('Kids'))) ]\n",
    "\n"
   ]
  },
  {
   "cell_type": "markdown",
   "id": "a7847efa-d743-486a-944d-a6628bb80282",
   "metadata": {},
   "source": [
    " ---"
   ]
  }
 ],
 "metadata": {
  "kernelspec": {
   "display_name": "Python [conda env:base] *",
   "language": "python",
   "name": "conda-base-py"
  },
  "language_info": {
   "codemirror_mode": {
    "name": "ipython",
    "version": 3
   },
   "file_extension": ".py",
   "mimetype": "text/x-python",
   "name": "python",
   "nbconvert_exporter": "python",
   "pygments_lexer": "ipython3",
   "version": "3.13.5"
  }
 },
 "nbformat": 4,
 "nbformat_minor": 5
}
